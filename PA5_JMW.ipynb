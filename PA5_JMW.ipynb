{
 "cells": [
  {
   "cell_type": "code",
   "execution_count": 31,
   "id": "d46dcd1e",
   "metadata": {},
   "outputs": [
    {
     "name": "stdout",
     "output_type": "stream",
     "text": [
      "Please Enter the first side of a Triangle: 12\n",
      "Please Enter the second side of a Triangle: 24\n",
      "Please Enter the third side of a Triangle: 30\n",
      "The Perimeter of the triangle is  66.0\n",
      "The area of the triangle is  137\n"
     ]
    }
   ],
   "source": [
    "a = float(input('Please Enter the first side of a Triangle: '))\n",
    "b = float(input('Please Enter the second side of a Triangle: '))\n",
    "c = float(input('Please Enter the third side of a Triangle: '))\n",
    "def calcperimeter(a,b,c):\n",
    "    peri = a+b+c\n",
    "    return peri\n",
    "def calcarea(a,b,c):\n",
    "    s =(a+b+c)/2  #semi-perimeter\n",
    "    area = (s*(s-a)*(s-b)*(s-c)) ** 0.5\n",
    "    return area\n",
    "\n",
    "\n",
    "\n",
    "\n",
    "\n",
    "\n",
    "\n",
    "\n",
    "\n",
    "\n",
    "print(\"The Perimeter of the triangle is \", calcperimeter(a,b,c));\n",
    "print('The area of the triangle is ', round(calcarea(a,b,c)))   \n"
   ]
  },
  {
   "cell_type": "code",
   "execution_count": 27,
   "id": "4a4ec778",
   "metadata": {},
   "outputs": [
    {
     "name": "stdout",
     "output_type": "stream",
     "text": [
      "Guess a number: 500\n",
      "Too low, guess again\n",
      "Guess a number: 750\n",
      "Too high, guess again\n",
      "Guess a number: 600\n",
      "Too high, guess again\n",
      "Guess a number: 580\n",
      "You guessed correctly\n"
     ]
    }
   ],
   "source": [
    "import random\n",
    "number = random.randint(1, 1000)\n",
    "guess = 0 #guess needs to be defined\n",
    "\n",
    "while guess != number:\n",
    "    guess = int(input('Guess a number: '))\n",
    "    guess += 1\n",
    "    if guess == number:\n",
    "        print ('You guessed correctly')\n",
    "        break\n",
    "    elif guess > number:\n",
    "        print ('Too high, guess again')\n",
    "    else:\n",
    "        print ('Too low, guess again')"
   ]
  },
  {
   "cell_type": "code",
   "execution_count": 29,
   "id": "00eb87e6",
   "metadata": {},
   "outputs": [
    {
     "name": "stdout",
     "output_type": "stream",
     "text": [
      "Enter the number of days: 6\n",
      "The mean temperature for the past 6 days is  43 degrees F.\n"
     ]
    }
   ],
   "source": [
    "heat=[34,34,54,61,28,45]\n",
    "def meanTemp(heat):\n",
    "    return sum(heat)/x\n",
    "x=int(input(\"Enter the number of days: \"))\n",
    "\n",
    "\n",
    "print('The mean temperature for the past', x, 'days is ', round(meanTemp(Temp)), 'degrees F.')\n",
    "    \n"
   ]
  },
  {
   "cell_type": "code",
   "execution_count": null,
   "id": "f22163da",
   "metadata": {},
   "outputs": [],
   "source": []
  },
  {
   "cell_type": "code",
   "execution_count": null,
   "id": "531f468c",
   "metadata": {},
   "outputs": [],
   "source": []
  }
 ],
 "metadata": {
  "kernelspec": {
   "display_name": "Python 3 (ipykernel)",
   "language": "python",
   "name": "python3"
  },
  "language_info": {
   "codemirror_mode": {
    "name": "ipython",
    "version": 3
   },
   "file_extension": ".py",
   "mimetype": "text/x-python",
   "name": "python",
   "nbconvert_exporter": "python",
   "pygments_lexer": "ipython3",
   "version": "3.9.12"
  }
 },
 "nbformat": 4,
 "nbformat_minor": 5
}
